{
  "nbformat": 4,
  "nbformat_minor": 0,
  "metadata": {
    "colab": {
      "provenance": []
    },
    "kernelspec": {
      "name": "python3",
      "display_name": "Python 3"
    },
    "language_info": {
      "name": "python"
    }
  },
  "cells": [
    {
      "cell_type": "code",
      "execution_count": 1,
      "metadata": {
        "colab": {
          "base_uri": "https://localhost:8080/",
          "height": 17
        },
        "id": "UZgfPmj43FI3",
        "outputId": "87d3b131-2024-4b5b-e279-fd345669b059"
      },
      "outputs": [
        {
          "output_type": "display_data",
          "data": {
            "text/plain": [
              "<IPython.core.display.Javascript object>"
            ],
            "application/javascript": [
              "\n",
              "    async function download(id, filename, size) {\n",
              "      if (!google.colab.kernel.accessAllowed) {\n",
              "        return;\n",
              "      }\n",
              "      const div = document.createElement('div');\n",
              "      const label = document.createElement('label');\n",
              "      label.textContent = `Downloading \"${filename}\": `;\n",
              "      div.appendChild(label);\n",
              "      const progress = document.createElement('progress');\n",
              "      progress.max = size;\n",
              "      div.appendChild(progress);\n",
              "      document.body.appendChild(div);\n",
              "\n",
              "      const buffers = [];\n",
              "      let downloaded = 0;\n",
              "\n",
              "      const channel = await google.colab.kernel.comms.open(id);\n",
              "      // Send a message to notify the kernel that we're ready.\n",
              "      channel.send({})\n",
              "\n",
              "      for await (const message of channel.messages) {\n",
              "        // Send a message to notify the kernel that we're ready.\n",
              "        channel.send({})\n",
              "        if (message.buffers) {\n",
              "          for (const buffer of message.buffers) {\n",
              "            buffers.push(buffer);\n",
              "            downloaded += buffer.byteLength;\n",
              "            progress.value = downloaded;\n",
              "          }\n",
              "        }\n",
              "      }\n",
              "      const blob = new Blob(buffers, {type: 'application/binary'});\n",
              "      const a = document.createElement('a');\n",
              "      a.href = window.URL.createObjectURL(blob);\n",
              "      a.download = filename;\n",
              "      div.appendChild(a);\n",
              "      a.click();\n",
              "      div.remove();\n",
              "    }\n",
              "  "
            ]
          },
          "metadata": {}
        },
        {
          "output_type": "display_data",
          "data": {
            "text/plain": [
              "<IPython.core.display.Javascript object>"
            ],
            "application/javascript": [
              "download(\"download_32ba10fa-90f8-4dbe-826f-72d24ca6f61c\", \"linear_regression_model.pkl\", 616)"
            ]
          },
          "metadata": {}
        }
      ],
      "source": [
        "import pandas as pd\n",
        "from sklearn.linear_model import LinearRegression\n",
        "from sklearn.model_selection import train_test_split\n",
        "from sklearn.metrics import mean_squared_error, r2_score\n",
        "from sklearn.impute import SimpleImputer\n",
        "import joblib\n",
        "\n",
        "df = pd.read_csv('/content/big_five_personality.csv', delimiter='\\t')\n",
        "\n",
        "ext_columns = [f'EXT{i}' for i in range(1, 11)]\n",
        "est_columns = [f'EST{i}' for i in range(1, 11)]\n",
        "agr_columns = [f'AGR{i}' for i in range(1, 11)]\n",
        "csn_columns = [f'CSN{i}' for i in range(1, 11)]\n",
        "opn_columns = [f'OPN{i}' for i in range(1, 11)]\n",
        "\n",
        "df['Extraversion'] = df[ext_columns].mean(axis=1)\n",
        "df['Emotional_Stability'] = df[est_columns].mean(axis=1)\n",
        "df['Agreeableness'] = df[agr_columns].mean(axis=1)\n",
        "df['Conscientiousness'] = df[csn_columns].mean(axis=1)\n",
        "df['Openness'] = df[opn_columns].mean(axis=1)\n",
        "\n",
        "X = df[['Emotional_Stability', 'Agreeableness', 'Conscientiousness', 'Openness']]\n",
        "y = df['Extraversion']\n",
        "\n",
        "imputer_X = SimpleImputer(strategy='mean')\n",
        "X = imputer_X.fit_transform(X)\n",
        "\n",
        "imputer_y = SimpleImputer(strategy='mean')\n",
        "y = imputer_y.fit_transform(y.values.reshape(-1, 1)).ravel()\n",
        "\n",
        "X_train, X_test, y_train, y_test = train_test_split(X, y, test_size=0.2, random_state=42)\n",
        "\n",
        "model = LinearRegression()\n",
        "model.fit(X_train, y_train)\n",
        "\n",
        "joblib.dump(model, 'linear_regression_model.pkl')\n",
        "\n",
        "from google.colab import files\n",
        "files.download('linear_regression_model.pkl')\n"
      ]
    }
  ]
}